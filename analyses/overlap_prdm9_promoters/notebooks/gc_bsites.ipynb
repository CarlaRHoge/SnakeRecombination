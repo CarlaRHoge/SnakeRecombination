{
 "cells": [
  {
   "cell_type": "code",
   "execution_count": 10,
   "metadata": {},
   "outputs": [],
   "source": [
    "dat = pd.DataFrame()\n",
    "for sp in [\"corn\", \"rattle\"]:\n",
    "    pd.read_csv(f\"../bsite/{sp}.tab\", sep=\"\\t\", header=None)\n",
    "    df = pd.read_csv(f\"../bsite/{sp}.tab\", sep=\"\\t\", header=None)\n",
    "    df.columns = [\"id\", \"seq\", \"bah\", \"gc\"]\n",
    "    df[\"nbps\"] = [len(s) for s in df.seq]\n",
    "    df[\"species\"] = sp\n",
    "    dat = pd.concat([dat, df])"
   ]
  },
  {
   "cell_type": "code",
   "execution_count": 13,
   "metadata": {},
   "outputs": [],
   "source": [
    "means = dat.groupby(\"species\")[\"gc\"].mean()"
   ]
  },
  {
   "cell_type": "code",
   "execution_count": 18,
   "metadata": {},
   "outputs": [],
   "source": [
    "rep_means = []\n",
    "for sp,df in dat.groupby(\"species\"):\n",
    "    rep_means.append([df.sample(n=len(df),replace=True)[\"gc\"].mean() for r in range(100)])"
   ]
  },
  {
   "cell_type": "code",
   "execution_count": 21,
   "metadata": {},
   "outputs": [
    {
     "data": {
      "text/plain": [
       "species\n",
       "corn      42.448088\n",
       "rattle    53.834943\n",
       "Name: gc, dtype: float64"
      ]
     },
     "execution_count": 21,
     "metadata": {},
     "output_type": "execute_result"
    }
   ],
   "source": [
    "means"
   ]
  },
  {
   "cell_type": "code",
   "execution_count": 24,
   "metadata": {},
   "outputs": [
    {
     "name": "stdout",
     "output_type": "stream",
     "text": [
      "42.417958854717604\n",
      "42.473066857809066\n"
     ]
    }
   ],
   "source": [
    "idx = 0\n",
    "print(np.percentile(rep_means[idx], 2.5))\n",
    "print(np.percentile(rep_means[idx], 97.5))"
   ]
  }
 ],
 "metadata": {
  "kernelspec": {
   "display_name": "Python 3",
   "language": "python",
   "name": "python3"
  },
  "language_info": {
   "codemirror_mode": {
    "name": "ipython",
    "version": 3
   },
   "file_extension": ".py",
   "mimetype": "text/x-python",
   "name": "python",
   "nbconvert_exporter": "python",
   "pygments_lexer": "ipython3",
   "version": "3.8.5"
  }
 },
 "nbformat": 4,
 "nbformat_minor": 4
}
