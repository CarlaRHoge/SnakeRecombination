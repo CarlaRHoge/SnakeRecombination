{
 "cells": [
  {
   "cell_type": "code",
   "execution_count": 1,
   "metadata": {},
   "outputs": [],
   "source": [
    "import statsmodels.nonparametric.smoothers_lowess as lowess"
   ]
  },
  {
   "cell_type": "code",
   "execution_count": 2,
   "metadata": {},
   "outputs": [],
   "source": [
    "with open(\"scaffolds.txt\", \"r\") as fh:\n",
    "    scafs = [line.strip() for line in fh]"
   ]
  },
  {
   "cell_type": "code",
   "execution_count": 187,
   "metadata": {},
   "outputs": [
    {
     "ename": "FileNotFoundError",
     "evalue": "[Errno 2] No such file or directory: 'PRDM9_All_Top50k_copy/Super_scaffold_106_Promoters_closest.bed'",
     "output_type": "error",
     "traceback": [
      "\u001b[0;31m---------------------------------------------------------------------------\u001b[0m",
      "\u001b[0;31mFileNotFoundError\u001b[0m                         Traceback (most recent call last)",
      "\u001b[0;32m<ipython-input-187-9bbfdad23911>\u001b[0m in \u001b[0;36m<module>\u001b[0;34m\u001b[0m\n\u001b[1;32m      4\u001b[0m     \u001b[0mdf\u001b[0m\u001b[0;34m.\u001b[0m\u001b[0mcolumns\u001b[0m \u001b[0;34m=\u001b[0m \u001b[0;34m[\u001b[0m\u001b[0;34m\"scaf\"\u001b[0m\u001b[0;34m,\u001b[0m \u001b[0;34m\"start\"\u001b[0m\u001b[0;34m,\u001b[0m \u001b[0;34m\"end\"\u001b[0m\u001b[0;34m,\u001b[0m \u001b[0;34m\"rrate\"\u001b[0m\u001b[0;34m,\u001b[0m \u001b[0;34m\"scaf\"\u001b[0m\u001b[0;34m,\u001b[0m \u001b[0;34m\"start2\"\u001b[0m\u001b[0;34m,\u001b[0m \u001b[0;34m\"end2\"\u001b[0m\u001b[0;34m,\u001b[0m \u001b[0;34m\"buh\"\u001b[0m\u001b[0;34m,\u001b[0m \u001b[0;34m\"alleles\"\u001b[0m\u001b[0;34m,\u001b[0m \u001b[0;34m\"distance\"\u001b[0m\u001b[0;34m]\u001b[0m\u001b[0;34m\u001b[0m\u001b[0;34m\u001b[0m\u001b[0m\n\u001b[1;32m      5\u001b[0m     \u001b[0mdf\u001b[0m\u001b[0;34m[\u001b[0m\u001b[0;34m\"kind\"\u001b[0m\u001b[0;34m]\u001b[0m \u001b[0;34m=\u001b[0m \u001b[0;34m\"prdm9\"\u001b[0m\u001b[0;34m\u001b[0m\u001b[0;34m\u001b[0m\u001b[0m\n\u001b[0;32m----> 6\u001b[0;31m     \u001b[0mdf2\u001b[0m \u001b[0;34m=\u001b[0m \u001b[0mpd\u001b[0m\u001b[0;34m.\u001b[0m\u001b[0mread_csv\u001b[0m\u001b[0;34m(\u001b[0m\u001b[0;34mf\"PRDM9_All_Top50k_copy/{scaf}_Promoters_closest.bed\"\u001b[0m\u001b[0;34m,\u001b[0m \u001b[0msep\u001b[0m\u001b[0;34m=\u001b[0m\u001b[0;34m\"\\t\"\u001b[0m\u001b[0;34m)\u001b[0m\u001b[0;34m\u001b[0m\u001b[0;34m\u001b[0m\u001b[0m\n\u001b[0m\u001b[1;32m      7\u001b[0m     \u001b[0mdf2\u001b[0m\u001b[0;34m.\u001b[0m\u001b[0mcolumns\u001b[0m \u001b[0;34m=\u001b[0m \u001b[0;34m[\u001b[0m\u001b[0;34m\"scaf\"\u001b[0m\u001b[0;34m,\u001b[0m \u001b[0;34m\"start\"\u001b[0m\u001b[0;34m,\u001b[0m \u001b[0;34m\"end\"\u001b[0m\u001b[0;34m,\u001b[0m \u001b[0;34m\"rrate\"\u001b[0m\u001b[0;34m,\u001b[0m \u001b[0;34m\"scaf\"\u001b[0m\u001b[0;34m,\u001b[0m \u001b[0;34m\"start2\"\u001b[0m\u001b[0;34m,\u001b[0m \u001b[0;34m\"end2\"\u001b[0m\u001b[0;34m,\u001b[0m \u001b[0;34m\"buh\"\u001b[0m\u001b[0;34m,\u001b[0m \u001b[0;34m\"alleles\"\u001b[0m\u001b[0;34m,\u001b[0m \u001b[0;34m\"distance\"\u001b[0m\u001b[0;34m]\u001b[0m\u001b[0;34m\u001b[0m\u001b[0;34m\u001b[0m\u001b[0m\n\u001b[1;32m      8\u001b[0m     \u001b[0mdf2\u001b[0m\u001b[0;34m[\u001b[0m\u001b[0;34m\"kind\"\u001b[0m\u001b[0;34m]\u001b[0m \u001b[0;34m=\u001b[0m \u001b[0;34m\"promoters\"\u001b[0m\u001b[0;34m\u001b[0m\u001b[0;34m\u001b[0m\u001b[0m\n",
      "\u001b[0;32m~/opt/anaconda3/lib/python3.8/site-packages/pandas/util/_decorators.py\u001b[0m in \u001b[0;36mwrapper\u001b[0;34m(*args, **kwargs)\u001b[0m\n\u001b[1;32m    209\u001b[0m                 \u001b[0;32melse\u001b[0m\u001b[0;34m:\u001b[0m\u001b[0;34m\u001b[0m\u001b[0;34m\u001b[0m\u001b[0m\n\u001b[1;32m    210\u001b[0m                     \u001b[0mkwargs\u001b[0m\u001b[0;34m[\u001b[0m\u001b[0mnew_arg_name\u001b[0m\u001b[0;34m]\u001b[0m \u001b[0;34m=\u001b[0m \u001b[0mnew_arg_value\u001b[0m\u001b[0;34m\u001b[0m\u001b[0;34m\u001b[0m\u001b[0m\n\u001b[0;32m--> 211\u001b[0;31m             \u001b[0;32mreturn\u001b[0m \u001b[0mfunc\u001b[0m\u001b[0;34m(\u001b[0m\u001b[0;34m*\u001b[0m\u001b[0margs\u001b[0m\u001b[0;34m,\u001b[0m \u001b[0;34m**\u001b[0m\u001b[0mkwargs\u001b[0m\u001b[0;34m)\u001b[0m\u001b[0;34m\u001b[0m\u001b[0;34m\u001b[0m\u001b[0m\n\u001b[0m\u001b[1;32m    212\u001b[0m \u001b[0;34m\u001b[0m\u001b[0m\n\u001b[1;32m    213\u001b[0m         \u001b[0;32mreturn\u001b[0m \u001b[0mcast\u001b[0m\u001b[0;34m(\u001b[0m\u001b[0mF\u001b[0m\u001b[0;34m,\u001b[0m \u001b[0mwrapper\u001b[0m\u001b[0;34m)\u001b[0m\u001b[0;34m\u001b[0m\u001b[0;34m\u001b[0m\u001b[0m\n",
      "\u001b[0;32m~/opt/anaconda3/lib/python3.8/site-packages/pandas/util/_decorators.py\u001b[0m in \u001b[0;36mwrapper\u001b[0;34m(*args, **kwargs)\u001b[0m\n\u001b[1;32m    329\u001b[0m                     \u001b[0mstacklevel\u001b[0m\u001b[0;34m=\u001b[0m\u001b[0mfind_stack_level\u001b[0m\u001b[0;34m(\u001b[0m\u001b[0;34m)\u001b[0m\u001b[0;34m,\u001b[0m\u001b[0;34m\u001b[0m\u001b[0;34m\u001b[0m\u001b[0m\n\u001b[1;32m    330\u001b[0m                 )\n\u001b[0;32m--> 331\u001b[0;31m             \u001b[0;32mreturn\u001b[0m \u001b[0mfunc\u001b[0m\u001b[0;34m(\u001b[0m\u001b[0;34m*\u001b[0m\u001b[0margs\u001b[0m\u001b[0;34m,\u001b[0m \u001b[0;34m**\u001b[0m\u001b[0mkwargs\u001b[0m\u001b[0;34m)\u001b[0m\u001b[0;34m\u001b[0m\u001b[0;34m\u001b[0m\u001b[0m\n\u001b[0m\u001b[1;32m    332\u001b[0m \u001b[0;34m\u001b[0m\u001b[0m\n\u001b[1;32m    333\u001b[0m         \u001b[0;31m# error: \"Callable[[VarArg(Any), KwArg(Any)], Any]\" has no\u001b[0m\u001b[0;34m\u001b[0m\u001b[0;34m\u001b[0m\u001b[0;34m\u001b[0m\u001b[0m\n",
      "\u001b[0;32m~/opt/anaconda3/lib/python3.8/site-packages/pandas/io/parsers/readers.py\u001b[0m in \u001b[0;36mread_csv\u001b[0;34m(filepath_or_buffer, sep, delimiter, header, names, index_col, usecols, squeeze, prefix, mangle_dupe_cols, dtype, engine, converters, true_values, false_values, skipinitialspace, skiprows, skipfooter, nrows, na_values, keep_default_na, na_filter, verbose, skip_blank_lines, parse_dates, infer_datetime_format, keep_date_col, date_parser, dayfirst, cache_dates, iterator, chunksize, compression, thousands, decimal, lineterminator, quotechar, quoting, doublequote, escapechar, comment, encoding, encoding_errors, dialect, error_bad_lines, warn_bad_lines, on_bad_lines, delim_whitespace, low_memory, memory_map, float_precision, storage_options)\u001b[0m\n\u001b[1;32m    948\u001b[0m     \u001b[0mkwds\u001b[0m\u001b[0;34m.\u001b[0m\u001b[0mupdate\u001b[0m\u001b[0;34m(\u001b[0m\u001b[0mkwds_defaults\u001b[0m\u001b[0;34m)\u001b[0m\u001b[0;34m\u001b[0m\u001b[0;34m\u001b[0m\u001b[0m\n\u001b[1;32m    949\u001b[0m \u001b[0;34m\u001b[0m\u001b[0m\n\u001b[0;32m--> 950\u001b[0;31m     \u001b[0;32mreturn\u001b[0m \u001b[0m_read\u001b[0m\u001b[0;34m(\u001b[0m\u001b[0mfilepath_or_buffer\u001b[0m\u001b[0;34m,\u001b[0m \u001b[0mkwds\u001b[0m\u001b[0;34m)\u001b[0m\u001b[0;34m\u001b[0m\u001b[0;34m\u001b[0m\u001b[0m\n\u001b[0m\u001b[1;32m    951\u001b[0m \u001b[0;34m\u001b[0m\u001b[0m\n\u001b[1;32m    952\u001b[0m \u001b[0;34m\u001b[0m\u001b[0m\n",
      "\u001b[0;32m~/opt/anaconda3/lib/python3.8/site-packages/pandas/io/parsers/readers.py\u001b[0m in \u001b[0;36m_read\u001b[0;34m(filepath_or_buffer, kwds)\u001b[0m\n\u001b[1;32m    603\u001b[0m \u001b[0;34m\u001b[0m\u001b[0m\n\u001b[1;32m    604\u001b[0m     \u001b[0;31m# Create the parser.\u001b[0m\u001b[0;34m\u001b[0m\u001b[0;34m\u001b[0m\u001b[0;34m\u001b[0m\u001b[0m\n\u001b[0;32m--> 605\u001b[0;31m     \u001b[0mparser\u001b[0m \u001b[0;34m=\u001b[0m \u001b[0mTextFileReader\u001b[0m\u001b[0;34m(\u001b[0m\u001b[0mfilepath_or_buffer\u001b[0m\u001b[0;34m,\u001b[0m \u001b[0;34m**\u001b[0m\u001b[0mkwds\u001b[0m\u001b[0;34m)\u001b[0m\u001b[0;34m\u001b[0m\u001b[0;34m\u001b[0m\u001b[0m\n\u001b[0m\u001b[1;32m    606\u001b[0m \u001b[0;34m\u001b[0m\u001b[0m\n\u001b[1;32m    607\u001b[0m     \u001b[0;32mif\u001b[0m \u001b[0mchunksize\u001b[0m \u001b[0;32mor\u001b[0m \u001b[0miterator\u001b[0m\u001b[0;34m:\u001b[0m\u001b[0;34m\u001b[0m\u001b[0;34m\u001b[0m\u001b[0m\n",
      "\u001b[0;32m~/opt/anaconda3/lib/python3.8/site-packages/pandas/io/parsers/readers.py\u001b[0m in \u001b[0;36m__init__\u001b[0;34m(self, f, engine, **kwds)\u001b[0m\n\u001b[1;32m   1440\u001b[0m \u001b[0;34m\u001b[0m\u001b[0m\n\u001b[1;32m   1441\u001b[0m         \u001b[0mself\u001b[0m\u001b[0;34m.\u001b[0m\u001b[0mhandles\u001b[0m\u001b[0;34m:\u001b[0m \u001b[0mIOHandles\u001b[0m \u001b[0;34m|\u001b[0m \u001b[0;32mNone\u001b[0m \u001b[0;34m=\u001b[0m \u001b[0;32mNone\u001b[0m\u001b[0;34m\u001b[0m\u001b[0;34m\u001b[0m\u001b[0m\n\u001b[0;32m-> 1442\u001b[0;31m         \u001b[0mself\u001b[0m\u001b[0;34m.\u001b[0m\u001b[0m_engine\u001b[0m \u001b[0;34m=\u001b[0m \u001b[0mself\u001b[0m\u001b[0;34m.\u001b[0m\u001b[0m_make_engine\u001b[0m\u001b[0;34m(\u001b[0m\u001b[0mf\u001b[0m\u001b[0;34m,\u001b[0m \u001b[0mself\u001b[0m\u001b[0;34m.\u001b[0m\u001b[0mengine\u001b[0m\u001b[0;34m)\u001b[0m\u001b[0;34m\u001b[0m\u001b[0;34m\u001b[0m\u001b[0m\n\u001b[0m\u001b[1;32m   1443\u001b[0m \u001b[0;34m\u001b[0m\u001b[0m\n\u001b[1;32m   1444\u001b[0m     \u001b[0;32mdef\u001b[0m \u001b[0mclose\u001b[0m\u001b[0;34m(\u001b[0m\u001b[0mself\u001b[0m\u001b[0;34m)\u001b[0m \u001b[0;34m->\u001b[0m \u001b[0;32mNone\u001b[0m\u001b[0;34m:\u001b[0m\u001b[0;34m\u001b[0m\u001b[0;34m\u001b[0m\u001b[0m\n",
      "\u001b[0;32m~/opt/anaconda3/lib/python3.8/site-packages/pandas/io/parsers/readers.py\u001b[0m in \u001b[0;36m_make_engine\u001b[0;34m(self, f, engine)\u001b[0m\n\u001b[1;32m   1733\u001b[0m                 \u001b[0;32mif\u001b[0m \u001b[0;34m\"b\"\u001b[0m \u001b[0;32mnot\u001b[0m \u001b[0;32min\u001b[0m \u001b[0mmode\u001b[0m\u001b[0;34m:\u001b[0m\u001b[0;34m\u001b[0m\u001b[0;34m\u001b[0m\u001b[0m\n\u001b[1;32m   1734\u001b[0m                     \u001b[0mmode\u001b[0m \u001b[0;34m+=\u001b[0m \u001b[0;34m\"b\"\u001b[0m\u001b[0;34m\u001b[0m\u001b[0;34m\u001b[0m\u001b[0m\n\u001b[0;32m-> 1735\u001b[0;31m             self.handles = get_handle(\n\u001b[0m\u001b[1;32m   1736\u001b[0m                 \u001b[0mf\u001b[0m\u001b[0;34m,\u001b[0m\u001b[0;34m\u001b[0m\u001b[0;34m\u001b[0m\u001b[0m\n\u001b[1;32m   1737\u001b[0m                 \u001b[0mmode\u001b[0m\u001b[0;34m,\u001b[0m\u001b[0;34m\u001b[0m\u001b[0;34m\u001b[0m\u001b[0m\n",
      "\u001b[0;32m~/opt/anaconda3/lib/python3.8/site-packages/pandas/io/common.py\u001b[0m in \u001b[0;36mget_handle\u001b[0;34m(path_or_buf, mode, encoding, compression, memory_map, is_text, errors, storage_options)\u001b[0m\n\u001b[1;32m    854\u001b[0m         \u001b[0;32mif\u001b[0m \u001b[0mioargs\u001b[0m\u001b[0;34m.\u001b[0m\u001b[0mencoding\u001b[0m \u001b[0;32mand\u001b[0m \u001b[0;34m\"b\"\u001b[0m \u001b[0;32mnot\u001b[0m \u001b[0;32min\u001b[0m \u001b[0mioargs\u001b[0m\u001b[0;34m.\u001b[0m\u001b[0mmode\u001b[0m\u001b[0;34m:\u001b[0m\u001b[0;34m\u001b[0m\u001b[0;34m\u001b[0m\u001b[0m\n\u001b[1;32m    855\u001b[0m             \u001b[0;31m# Encoding\u001b[0m\u001b[0;34m\u001b[0m\u001b[0;34m\u001b[0m\u001b[0;34m\u001b[0m\u001b[0m\n\u001b[0;32m--> 856\u001b[0;31m             handle = open(\n\u001b[0m\u001b[1;32m    857\u001b[0m                 \u001b[0mhandle\u001b[0m\u001b[0;34m,\u001b[0m\u001b[0;34m\u001b[0m\u001b[0;34m\u001b[0m\u001b[0m\n\u001b[1;32m    858\u001b[0m                 \u001b[0mioargs\u001b[0m\u001b[0;34m.\u001b[0m\u001b[0mmode\u001b[0m\u001b[0;34m,\u001b[0m\u001b[0;34m\u001b[0m\u001b[0;34m\u001b[0m\u001b[0m\n",
      "\u001b[0;31mFileNotFoundError\u001b[0m: [Errno 2] No such file or directory: 'PRDM9_All_Top50k_copy/Super_scaffold_106_Promoters_closest.bed'"
     ]
    }
   ],
   "source": [
    "dat = pd.DataFrame()\n",
    "for scaf in scafs:\n",
    "    df = pd.read_csv(f\"PRDM9_All_Top50k_copy/{scaf}_PRDM9_All_Top50k_closest.bed\", sep=\"\\t\")\n",
    "    df.columns = [\"scaf\", \"start\", \"end\", \"rrate\", \"scaf\", \"start2\", \"end2\", \"buh\", \"alleles\", \"distance\"]\n",
    "    df[\"kind\"] = \"prdm9\"\n",
    "    df2 = pd.read_csv(f\"PRDM9_All_Top50k_copy/{scaf}_Promoters_closest.bed\", sep=\"\\t\")\n",
    "    df2.columns = [\"scaf\", \"start\", \"end\", \"rrate\", \"scaf\", \"start2\", \"end2\", \"buh\", \"alleles\", \"distance\"]\n",
    "    df2[\"kind\"] = \"promoters\"\n",
    "    dat = pd.concat([dat, df, df2])"
   ]
  },
  {
   "cell_type": "code",
   "execution_count": 113,
   "metadata": {},
   "outputs": [],
   "source": [
    "#dat[\"qdistance\"] = pd.qcut(dat['distance'], q=30, duplicates=\"drop\")\n",
    "dat[\"qdistance\"] = pd.Interval(-1, 0)\n",
    "dat.loc[dat['distance'] == 0, 'qdistance'] = pd.Interval(-1, 0)\n",
    "dat.loc[dat['distance'] != 0, 'qdistance'] = pd.qcut(dat.loc[dat['distance'] != 0, 'distance'], q=10)"
   ]
  },
  {
   "cell_type": "code",
   "execution_count": 114,
   "metadata": {},
   "outputs": [],
   "source": [
    "results_l = []\n",
    "for dist,df in dat.groupby(\"qdistance\"):\n",
    "    mean = df[\"rrate\"].mean()\n",
    "    rates = list(df[\"rrate\"].values)\n",
    "    means = []\n",
    "    for rep in range(200):\n",
    "        rep_mean = np.mean(np.random.choice(rates, size=len(rates), replace=True))\n",
    "        means.append(rep_mean)\n",
    "    low_ci = np.percentile(means, 2.5)\n",
    "    high_ci = np.percentile(means, 97.5)\n",
    "    results_l.append([dist, mean, low_ci, high_ci])"
   ]
  },
  {
   "cell_type": "code",
   "execution_count": 115,
   "metadata": {},
   "outputs": [],
   "source": [
    "results = pd.DataFrame(results_l)\n",
    "results.columns = [\"distance\", \"mean\", \"low_ci\", \"high_ci\"]"
   ]
  },
  {
   "cell_type": "code",
   "execution_count": 179,
   "metadata": {},
   "outputs": [],
   "source": [
    "tail_rate = dat[dat.distance.between(10e3,12e3)][\"rrate\"].mean()"
   ]
  },
  {
   "cell_type": "code",
   "execution_count": 180,
   "metadata": {},
   "outputs": [],
   "source": [
    "for c in [\"mean\", \"low_ci\", \"high_ci\"]:\n",
    "    results[f\"norm_{c}\"] = results[c]/tail_rate"
   ]
  },
  {
   "cell_type": "code",
   "execution_count": 181,
   "metadata": {},
   "outputs": [],
   "source": [
    "results[\"midpoint\"] = [d.mid for d in results.distance]"
   ]
  },
  {
   "cell_type": "code",
   "execution_count": 182,
   "metadata": {},
   "outputs": [
    {
     "data": {
      "text/html": [
       "<div>\n",
       "<style scoped>\n",
       "    .dataframe tbody tr th:only-of-type {\n",
       "        vertical-align: middle;\n",
       "    }\n",
       "\n",
       "    .dataframe tbody tr th {\n",
       "        vertical-align: top;\n",
       "    }\n",
       "\n",
       "    .dataframe thead th {\n",
       "        text-align: right;\n",
       "    }\n",
       "</style>\n",
       "<table border=\"1\" class=\"dataframe\">\n",
       "  <thead>\n",
       "    <tr style=\"text-align: right;\">\n",
       "      <th></th>\n",
       "      <th>distance</th>\n",
       "      <th>mean</th>\n",
       "      <th>low_ci</th>\n",
       "      <th>high_ci</th>\n",
       "      <th>norm_mean</th>\n",
       "      <th>norm_low_ci</th>\n",
       "      <th>norm_high_ci</th>\n",
       "      <th>midpoint</th>\n",
       "    </tr>\n",
       "  </thead>\n",
       "  <tbody>\n",
       "    <tr>\n",
       "      <th>0</th>\n",
       "      <td>(-1.0, 0.0]</td>\n",
       "      <td>0.006277</td>\n",
       "      <td>0.006216</td>\n",
       "      <td>0.006347</td>\n",
       "      <td>1.770208</td>\n",
       "      <td>1.753050</td>\n",
       "      <td>1.789928</td>\n",
       "      <td>-0.5000</td>\n",
       "    </tr>\n",
       "    <tr>\n",
       "      <th>1</th>\n",
       "      <td>(0.999, 156.0]</td>\n",
       "      <td>0.005783</td>\n",
       "      <td>0.005733</td>\n",
       "      <td>0.005820</td>\n",
       "      <td>1.631000</td>\n",
       "      <td>1.616790</td>\n",
       "      <td>1.641337</td>\n",
       "      <td>78.4995</td>\n",
       "    </tr>\n",
       "    <tr>\n",
       "      <th>2</th>\n",
       "      <td>(156.0, 331.0]</td>\n",
       "      <td>0.005665</td>\n",
       "      <td>0.005615</td>\n",
       "      <td>0.005717</td>\n",
       "      <td>1.597714</td>\n",
       "      <td>1.583533</td>\n",
       "      <td>1.612251</td>\n",
       "      <td>243.5000</td>\n",
       "    </tr>\n",
       "    <tr>\n",
       "      <th>3</th>\n",
       "      <td>(331.0, 531.0]</td>\n",
       "      <td>0.005558</td>\n",
       "      <td>0.005508</td>\n",
       "      <td>0.005615</td>\n",
       "      <td>1.567661</td>\n",
       "      <td>1.553296</td>\n",
       "      <td>1.583721</td>\n",
       "      <td>431.0000</td>\n",
       "    </tr>\n",
       "    <tr>\n",
       "      <th>4</th>\n",
       "      <td>(531.0, 763.0]</td>\n",
       "      <td>0.005349</td>\n",
       "      <td>0.005312</td>\n",
       "      <td>0.005392</td>\n",
       "      <td>1.508518</td>\n",
       "      <td>1.498104</td>\n",
       "      <td>1.520731</td>\n",
       "      <td>647.0000</td>\n",
       "    </tr>\n",
       "    <tr>\n",
       "      <th>5</th>\n",
       "      <td>(763.0, 1039.0]</td>\n",
       "      <td>0.005171</td>\n",
       "      <td>0.005129</td>\n",
       "      <td>0.005217</td>\n",
       "      <td>1.458284</td>\n",
       "      <td>1.446504</td>\n",
       "      <td>1.471400</td>\n",
       "      <td>901.0000</td>\n",
       "    </tr>\n",
       "    <tr>\n",
       "      <th>6</th>\n",
       "      <td>(1039.0, 1378.0]</td>\n",
       "      <td>0.004985</td>\n",
       "      <td>0.004936</td>\n",
       "      <td>0.005031</td>\n",
       "      <td>1.405917</td>\n",
       "      <td>1.392057</td>\n",
       "      <td>1.418946</td>\n",
       "      <td>1208.5000</td>\n",
       "    </tr>\n",
       "    <tr>\n",
       "      <th>7</th>\n",
       "      <td>(1378.0, 1820.0]</td>\n",
       "      <td>0.004810</td>\n",
       "      <td>0.004755</td>\n",
       "      <td>0.004863</td>\n",
       "      <td>1.356633</td>\n",
       "      <td>1.340956</td>\n",
       "      <td>1.371536</td>\n",
       "      <td>1599.0000</td>\n",
       "    </tr>\n",
       "    <tr>\n",
       "      <th>8</th>\n",
       "      <td>(1820.0, 2449.0]</td>\n",
       "      <td>0.004573</td>\n",
       "      <td>0.004533</td>\n",
       "      <td>0.004617</td>\n",
       "      <td>1.289697</td>\n",
       "      <td>1.278523</td>\n",
       "      <td>1.302253</td>\n",
       "      <td>2134.5000</td>\n",
       "    </tr>\n",
       "    <tr>\n",
       "      <th>9</th>\n",
       "      <td>(2449.0, 3539.0]</td>\n",
       "      <td>0.004376</td>\n",
       "      <td>0.004328</td>\n",
       "      <td>0.004427</td>\n",
       "      <td>1.234236</td>\n",
       "      <td>1.220672</td>\n",
       "      <td>1.248565</td>\n",
       "      <td>2994.0000</td>\n",
       "    </tr>\n",
       "    <tr>\n",
       "      <th>10</th>\n",
       "      <td>(3539.0, 35314.0]</td>\n",
       "      <td>0.004006</td>\n",
       "      <td>0.003953</td>\n",
       "      <td>0.004062</td>\n",
       "      <td>1.129691</td>\n",
       "      <td>1.114900</td>\n",
       "      <td>1.145656</td>\n",
       "      <td>19426.5000</td>\n",
       "    </tr>\n",
       "  </tbody>\n",
       "</table>\n",
       "</div>"
      ],
      "text/plain": [
       "             distance      mean    low_ci   high_ci  norm_mean  norm_low_ci  \\\n",
       "0         (-1.0, 0.0]  0.006277  0.006216  0.006347   1.770208     1.753050   \n",
       "1      (0.999, 156.0]  0.005783  0.005733  0.005820   1.631000     1.616790   \n",
       "2      (156.0, 331.0]  0.005665  0.005615  0.005717   1.597714     1.583533   \n",
       "3      (331.0, 531.0]  0.005558  0.005508  0.005615   1.567661     1.553296   \n",
       "4      (531.0, 763.0]  0.005349  0.005312  0.005392   1.508518     1.498104   \n",
       "5     (763.0, 1039.0]  0.005171  0.005129  0.005217   1.458284     1.446504   \n",
       "6    (1039.0, 1378.0]  0.004985  0.004936  0.005031   1.405917     1.392057   \n",
       "7    (1378.0, 1820.0]  0.004810  0.004755  0.004863   1.356633     1.340956   \n",
       "8    (1820.0, 2449.0]  0.004573  0.004533  0.004617   1.289697     1.278523   \n",
       "9    (2449.0, 3539.0]  0.004376  0.004328  0.004427   1.234236     1.220672   \n",
       "10  (3539.0, 35314.0]  0.004006  0.003953  0.004062   1.129691     1.114900   \n",
       "\n",
       "    norm_high_ci    midpoint  \n",
       "0       1.789928     -0.5000  \n",
       "1       1.641337     78.4995  \n",
       "2       1.612251    243.5000  \n",
       "3       1.583721    431.0000  \n",
       "4       1.520731    647.0000  \n",
       "5       1.471400    901.0000  \n",
       "6       1.418946   1208.5000  \n",
       "7       1.371536   1599.0000  \n",
       "8       1.302253   2134.5000  \n",
       "9       1.248565   2994.0000  \n",
       "10      1.145656  19426.5000  "
      ]
     },
     "execution_count": 182,
     "metadata": {},
     "output_type": "execute_result"
    }
   ],
   "source": [
    "results"
   ]
  },
  {
   "cell_type": "code",
   "execution_count": 183,
   "metadata": {},
   "outputs": [
    {
     "data": {
      "image/png": "[encoded data removed]",
      "text/plain": [
       "<Figure size 360x360 with 1 Axes>"
      ]
     },
     "metadata": {
      "needs_background": "light"
     },
     "output_type": "display_data"
    }
   ],
   "source": [
    "f,ax = plt.subplots(figsize=[5,5])\n",
    "\n",
    "xs = results[\"distance\"].apply(lambda x: x.right)\n",
    "ax.step(xs, results[\"norm_mean\"])\n",
    "\n",
    "for i,r in results.iterrows():\n",
    "    xs = [r.distance.left, r.distance.right+0.5]\n",
    "    ys = [r.norm_mean, r.norm_mean]\n",
    "    \n",
    "    # Use step plot instead of line plot\n",
    "    #ax.step(xs, ys, where='post', color=\"C0\")\n",
    "    #m = r.norm_mean\n",
    "    #ax.plot(xs, ys, color=\"C0\")\n",
    "    ax.fill_between(xs, r[\"norm_low_ci\"], r[\"norm_high_ci\"], alpha=0.3, color=\"C0\")\n",
    "\n",
    "ax.axhline(y=1, linestyle=\"dotted\", color=\"lightgray\")\n",
    "ax.set_ylabel(\"Relative recombination rate\")\n",
    "ax.set_xlabel(\"Distance to nearest PRDM9 binding site\")\n",
    "\n",
    "ax.set_xlim([-200, 10e3])\n",
    "ax.set_ylim(bottom=0.9)\n",
    "sns.despine()\n",
    "plt.tight_layout()\n",
    "#plt.savefig(\"equally_sized_bins_islands.pdf\")\n",
    "#sns.lineplot(data=results, \n",
    "#             x=\"midpoint\", \n",
    "#             y=\"norm_mean\",\n",
    "#             ax=ax)"
   ]
  },
  {
   "cell_type": "code",
   "execution_count": 186,
   "metadata": {},
   "outputs": [
    {
     "data": {
      "text/plain": [
       "(0.0, 6.0)"
      ]
     },
     "execution_count": 186,
     "metadata": {},
     "output_type": "execute_result"
    },
    {
     "data": {
      "image/png": "[encoded data removed]",
      "text/plain": [
       "<Figure size 432x288 with 1 Axes>"
      ]
     },
     "metadata": {
      "needs_background": "light"
     },
     "output_type": "display_data"
    }
   ],
   "source": [
    "f,ax = plt.subplots()\n",
    "sns.lineplot(data=results, \n",
    "             x=\"midpoint\", \n",
    "             y=\"norm_mean\",\n",
    "             ax=ax)\n",
    "sns.scatterplot(data=results, \n",
    "                x=\"midpoint\", \n",
    "                y=\"norm_mean\",\n",
    "                ax=ax)\n",
    "ax.fill_between(results.midpoint, \n",
    "                results.norm_low_ci, \n",
    "                results.norm_high_ci, \n",
    "                alpha=0.6)\n",
    "ax.set_xlim(right=10e3)\n",
    "ax.set_ylim([0,6])"
   ]
  },
  {
   "cell_type": "code",
   "execution_count": 144,
   "metadata": {},
   "outputs": [
    {
     "data": {
      "text/plain": [
       "<matplotlib.collections.PolyCollection at 0x7fbb67cb1a30>"
      ]
     },
     "execution_count": 144,
     "metadata": {},
     "output_type": "execute_result"
    },
    {
     "data": {
      "image/png": "[encoded data removed]",
      "text/plain": [
       "<Figure size 432x288 with 1 Axes>"
      ]
     },
     "metadata": {
      "needs_background": "light"
     },
     "output_type": "display_data"
    }
   ],
   "source": [
    "f,ax = plt.subplots()\n",
    "sns.lineplot(data=results, \n",
    "             x=\"distance\", \n",
    "             y=\"norm_mean\",\n",
    "             ax=ax)\n",
    "ax.fill_between(results.distance, \n",
    "                results.norm_low_ci, \n",
    "                results.norm_high_ci, \n",
    "                alpha=0.6)"
   ]
  },
  {
   "cell_type": "code",
   "execution_count": 73,
   "metadata": {},
   "outputs": [],
   "source": [
    "import pickle"
   ]
  },
  {
   "cell_type": "code",
   "execution_count": 95,
   "metadata": {},
   "outputs": [],
   "source": [
    "with open(\"PRDM9_All_Top50k_copy/_all_Means_dict.txt\", \"rb\") as f:\n",
    "    means = pickle.load(f)\n",
    "with open(\"PRDM9_All_Top50k_copy/_all_Boots_dict.txt\", \"rb\") as f:\n",
    "    boots = pickle.load(f)"
   ]
  },
  {
   "cell_type": "code",
   "execution_count": 103,
   "metadata": {},
   "outputs": [
    {
     "name": "stdout",
     "output_type": "stream",
     "text": [
      "0 0.006065061854289646 0.006183221078108386\n"
     ]
    }
   ],
   "source": [
    "for k,v in boots.items():\n",
    "    low_ci = np.percentile(v, 2.5)\n",
    "    high_ci = np.percentile(v, 97.5)\n",
    "    if k==0:\n",
    "        print(k, low_ci, high_ci)"
   ]
  },
  {
   "cell_type": "code",
   "execution_count": 167,
   "metadata": {},
   "outputs": [],
   "source": [
    "smoothed_values = np.empty((len(boots[0]), 101))\n",
    "for count in range(len(boots[0])): \n",
    "    x = []\n",
    "    y = []\n",
    "    for dis in sorted(boots): \n",
    "        if dis > 10000: continue\n",
    "        x.append(dis)\n",
    "        y.append(boots[dis][count])\n",
    "    #Smooth the bootstrapped values for this run\n",
    "    smoothed_values[count] = lowess.lowess(y, x, frac=.1, it=3, return_sorted = False)\n",
    "#Sort each column\n",
    "sorted_values = np.sort(smoothed_values, axis=0)\n",
    "#Find the confidence intervals for each distance\n",
    "bound = int(len(boots[0]) * (1 - .95) / 2)\n",
    "bottom = sorted_values[bound-1]\n",
    "top = sorted_values[-bound]\n",
    "m = lowess.lowess(carla[\"mean\"], carla.distance, frac=.1, it=3, return_sorted = False)"
   ]
  },
  {
   "cell_type": "code",
   "execution_count": 171,
   "metadata": {},
   "outputs": [
    {
     "data": {
      "text/plain": [
       "<matplotlib.collections.PolyCollection at 0x7fbb615ada90>"
      ]
     },
     "execution_count": 171,
     "metadata": {},
     "output_type": "execute_result"
    },
    {
     "data": {
      "image/png": "[encoded data removed]",
      "text/plain": [
       "<Figure size 432x288 with 1 Axes>"
      ]
     },
     "metadata": {
      "needs_background": "light"
     },
     "output_type": "display_data"
    }
   ],
   "source": [
    "plt.scatter(carla.distance, m)\n",
    "plt.fill_between(carla.distance, bottom, top)"
   ]
  },
  {
   "cell_type": "code",
   "execution_count": 83,
   "metadata": {},
   "outputs": [],
   "source": [
    "carla = pd.DataFrame([means.keys(), means.values()]).transpose()\n",
    "carla.columns = [\"distance\", \"mean\"]"
   ]
  },
  {
   "cell_type": "code",
   "execution_count": 86,
   "metadata": {},
   "outputs": [],
   "source": [
    "carla = carla.sort_values(by=\"distance\").reset_index(drop=True)"
   ]
  },
  {
   "cell_type": "code",
   "execution_count": 92,
   "metadata": {},
   "outputs": [
    {
     "data": {
      "text/plain": [
       "<matplotlib.lines._AxLine at 0x7fbb55cd4400>"
      ]
     },
     "execution_count": 92,
     "metadata": {},
     "output_type": "execute_result"
    },
    {
     "data": {
      "image/png": "[encoded data removed]",
      "text/plain": [
       "<Figure size 432x288 with 1 Axes>"
      ]
     },
     "metadata": {
      "needs_background": "light"
     },
     "output_type": "display_data"
    }
   ],
   "source": [
    "plt.scatter(carla[\"mean\"], results[\"mean\"])\n",
    "plt.axline((0.003,0.003),slope=1)"
   ]
  },
  {
   "cell_type": "code",
   "execution_count": null,
   "metadata": {},
   "outputs": [],
   "source": []
  }
 ],
 "metadata": {
  "kernelspec": {
   "display_name": "Python 3",
   "language": "python",
   "name": "python3"
  },
  "language_info": {
   "codemirror_mode": {
    "name": "ipython",
    "version": 3
   },
   "file_extension": ".py",
   "mimetype": "text/x-python",
   "name": "python",
   "nbconvert_exporter": "python",
   "pygments_lexer": "ipython3",
   "version": "3.8.5"
  }
 },
 "nbformat": 4,
 "nbformat_minor": 4
}
