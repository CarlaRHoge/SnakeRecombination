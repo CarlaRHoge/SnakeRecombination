{
 "cells": [
  {
   "cell_type": "markdown",
   "metadata": {},
   "source": [
    "Read data"
   ]
  },
  {
   "cell_type": "code",
   "execution_count": 2,
   "metadata": {},
   "outputs": [],
   "source": [
    "v = pd.read_csv(\"../input_tab/merged.tab.gz\",sep=\"\\t\",header=None)\n",
    "v.columns = [\"scaf\", \"start\", \"end\", \n",
    "             \"rrate\", \"cpgi\", \"prdm9\", \"spot\", \n",
    "             \"spot_id\", \"species\", \"kind\"]"
   ]
  },
  {
   "cell_type": "markdown",
   "metadata": {},
   "source": [
    "Select some random spots to plot"
   ]
  },
  {
   "cell_type": "code",
   "execution_count": 125,
   "metadata": {},
   "outputs": [],
   "source": [
    "n = 50\n",
    "ran_spots = []\n",
    "for (kind,sp),df in v.groupby([\"species\", \"kind\"]):\n",
    "    spot_ids = df.spot_id.unique()\n",
    "    ran_spots.append([random.choice(spot_ids) for i in range(n)])\n",
    "ran_spots = sum(ran_spots, [])"
   ]
  },
  {
   "cell_type": "markdown",
   "metadata": {},
   "source": [
    "Plotting"
   ]
  },
  {
   "cell_type": "code",
   "execution_count": 126,
   "metadata": {},
   "outputs": [],
   "source": [
    "#imax = 10\n",
    "subd = v[v.spot_id.isin(ran_spots)]\n",
    "\n",
    "for i,((kind,sp,spot_id),df) in enumerate(subd.groupby([\"kind\", \"species\", \"spot_id\"])):\n",
    "        \n",
    "    df = df.sort_values(by=\"start\")\n",
    "\n",
    "    # X limits\n",
    "    start, end = map(int, spot_id.split(\":\")[-1].split(\"-\"))\n",
    "    max_start  = start-20e3\n",
    "    max_end    = end+20e3\n",
    "    \n",
    "    f,ax = plt.subplots()\n",
    "    xs = sum([[r.start, r.end] for i,r in df.iterrows()], [])\n",
    "    ys = sum([[r.rrate, r.rrate] for i,r in df.iterrows()], [])\n",
    "    \n",
    "    # Relative rate\n",
    "    norm_y = np.mean(ys)\n",
    "    ys = ys/norm_y\n",
    "    \n",
    "    # Plot recombination rates\n",
    "    ax.step(xs, ys, \n",
    "            color=\"gray\", \n",
    "            alpha=0.7)\n",
    "    ax.scatter(xs, ys, \n",
    "               color=\"gray\", \n",
    "               alpha=0.7, \n",
    "               s=3)\n",
    "\n",
    "    ax.axhline(y=0, \n",
    "               linestyle=\"dotted\", \n",
    "               color=\"lightgray\", \n",
    "               linewidth=1)\n",
    "    \n",
    "    # Plot position of features\n",
    "    scale = max(ys)\n",
    "    feats = [\"cpgi\", \"prdm9\", \"spot\"]\n",
    "    yfeats = np.linspace(-scale*0.1, -scale*0.3, len(feats))\n",
    "    for y,feature in enumerate(feats):\n",
    "        ycor = yfeats[y]\n",
    "        color = \"C{}\".format(y)\n",
    "        if feature==\"spot\":\n",
    "            ax.plot([start, end], \n",
    "                    [ycor, ycor], \n",
    "                    c=color)\n",
    "        else:\n",
    "            sdf = df[df[feature]>0]\n",
    "            for i,r in sdf.iterrows():\n",
    "                ax.plot([r.start, r.end], \n",
    "                        [ycor, ycor],\n",
    "                        c=color)\n",
    "\n",
    "    ax.set_xlim([max_start, max_end])\n",
    "    ax.set_yticks(list(yfeats) + [0, scale])\n",
    "    ax.set_yticklabels(feats + [0, \"{:.2f}\".format(scale)])\n",
    "    ax.set_title(\"{} | {}\\n{}\".format(sp, kind, spot_id), fontsize=10)\n",
    "    ax.set_ylabel(\"             Relative recombination rate\")\n",
    "    sns.despine()\n",
    "    plt.tight_layout()\n",
    "    plt.savefig(\"../pdfs/{}.{}.{}.pdf\".format(sp, kind, spot_id))\n",
    "    plt.close()"
   ]
  }
 ],
 "metadata": {
  "kernelspec": {
   "display_name": "Python 3",
   "language": "python",
   "name": "python3"
  },
  "language_info": {
   "codemirror_mode": {
    "name": "ipython",
    "version": 3
   },
   "file_extension": ".py",
   "mimetype": "text/x-python",
   "name": "python",
   "nbconvert_exporter": "python",
   "pygments_lexer": "ipython3",
   "version": "3.8.5"
  }
 },
 "nbformat": 4,
 "nbformat_minor": 4
}
