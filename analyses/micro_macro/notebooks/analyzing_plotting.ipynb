{
 "cells": [
  {
   "cell_type": "markdown",
   "metadata": {},
   "source": [
    "Read data"
   ]
  },
  {
   "cell_type": "code",
   "execution_count": 1,
   "metadata": {},
   "outputs": [],
   "source": [
    "l = []\n",
    "for sp in [\"Crotalus_viridis\", \"Naja_naja\"]:\n",
    "    df = pd.read_csv(\"../liftover/corn.{}.tab.gz\".format(sp), \n",
    "                     sep=\"\\t\", header=None)\n",
    "    df.columns = [\"corn_scaf\", \"corn_start\", \"corn_end\", \n",
    "                  \"sp2_scaf\", \"sp2_start\", \"sp2_end\"]\n",
    "    df[\"sp2\"] = sp\n",
    "    l.append(df)\n",
    "lift = pd.concat(l)\n",
    "lift[\"corn_width\"] = lift.corn_end - lift.corn_start"
   ]
  },
  {
   "cell_type": "markdown",
   "metadata": {},
   "source": [
    "Convert sp2 chrom names"
   ]
  },
  {
   "cell_type": "code",
   "execution_count": 2,
   "metadata": {},
   "outputs": [],
   "source": [
    "r2rdf = pd.read_csv(\"../../gcstar/misc_files/rattle2rattle_offset.txt\",sep=\"\\t\",header=None)\n",
    "r2r = r2rdf.set_index(2)[0].to_dict()\n",
    "naja_chroms = lift[lift.sp2==\"Naja_naja\"].sp2_scaf.unique()\n",
    "n2n = {c:(\"scaffold-mi{}\".format(c.split(\"_\")[-1]) if c.startswith(\"MIC\") else \"scaffold-ma{}\".format(c)) for c in naja_chroms if \"SOZ\" not in c}"
   ]
  },
  {
   "cell_type": "code",
   "execution_count": 3,
   "metadata": {},
   "outputs": [],
   "source": [
    "new_scafs = []\n",
    "for i,r in lift.iterrows():\n",
    "    if r.sp2==\"Naja_naja\":\n",
    "        if r.sp2_scaf in n2n:\n",
    "            new_scafs.append(n2n[r.sp2_scaf])\n",
    "        else:\n",
    "            new_scafs.append(r.sp2_scaf)\n",
    "    else:\n",
    "        if r.sp2_scaf in r2r:\n",
    "            new_scafs.append(r2r[r.sp2_scaf])\n",
    "        else:\n",
    "            new_scafs.append(r.sp2_scaf)\n",
    "lift[\"sp2_chrom\"] = new_scafs"
   ]
  },
  {
   "cell_type": "markdown",
   "metadata": {},
   "source": [
    "Get best matching chromosome"
   ]
  },
  {
   "cell_type": "code",
   "execution_count": 4,
   "metadata": {},
   "outputs": [],
   "source": [
    "bps = lift.groupby([\"corn_scaf\", \"sp2_chrom\", \"sp2\"])[\"corn_width\"].sum().reset_index()\n",
    "bps = bps.rename(columns={\"corn_width\":\"bps\"})\n",
    "totals = bps.groupby([\"corn_scaf\",\"sp2\"])[\"bps\"].sum().to_dict()\n",
    "bps[\"frac\"] = [r.bps/totals[(r.corn_scaf, r.sp2)] for i,r in bps.iterrows()]\n",
    "bps[\"total\"] = [totals[(r.corn_scaf, r.sp2)] for i,r in bps.iterrows()]"
   ]
  },
  {
   "cell_type": "code",
   "execution_count": 5,
   "metadata": {},
   "outputs": [],
   "source": [
    "high_match = bps[(bps.frac>0.1)]\n",
    "\n",
    "classification_l = []\n",
    "for (sp, scaf),df in high_match.groupby([\"sp2\", \"corn_scaf\"]):\n",
    "    sp2_chroms = df.sp2_chrom.values\n",
    "    if all(\"-ma\" in chrom for chrom in sp2_chroms):\n",
    "        classification_l.append([scaf,\n",
    "                                 sp, \n",
    "                                 \":\".join(sp2_chroms), \n",
    "                                 df.frac.sum(), \n",
    "                                 df.total.values[0], \n",
    "                                 \"macro\"])\n",
    "    elif all(\"-mi\" in chrom for chrom in sp2_chroms):\n",
    "        classification_l.append([scaf,\n",
    "                                 sp, \n",
    "                                 \":\".join(sp2_chroms), \n",
    "                                 df.frac.sum(), \n",
    "                                 df.total.values[0], \n",
    "                                 \"micro\"])\n",
    "    else:\n",
    "        classification_l.append([scaf,\n",
    "                                 sp, \n",
    "                                 \":\".join(sp2_chroms), \n",
    "                                 df.frac.sum(), \n",
    "                                 df.total.values[0], \n",
    "                                 \"unk\"])       \n",
    "classif = pd.DataFrame(classification_l)\n",
    "classif.columns = [\"scaf\", \"sp2\", \"sp2_chroms\", \"frac\", \"total\", \"nature\"]"
   ]
  },
  {
   "cell_type": "code",
   "execution_count": 142,
   "metadata": {},
   "outputs": [],
   "source": [
    "collapse_sp2 = classif.groupby([\"scaf\", \"nature\"])[\"sp2\"].count().reset_index()"
   ]
  },
  {
   "cell_type": "code",
   "execution_count": 143,
   "metadata": {},
   "outputs": [],
   "source": [
    "smallchroms = ['Super_scaffold_353', 'Super_scaffold_360', 'Super_scaffold_368', 'Super_scaffold_373', 'Super_scaffold_378', 'Super_scaffold_383', 'Super_scaffold_393', 'Super_scaffold_396', 'Super_scaffold_397', 'Super_scaffold_405', 'Super_scaffold_406', 'Super_scaffold_415', 'Super_scaffold_422']\n",
    "largechroms = ['Super_scaffold_100', 'Super_scaffold_106', 'Super_scaffold_110', 'Super_scaffold_140', 'Super_scaffold_141', 'Super_scaffold_147', 'Super_scaffold_167', 'Super_scaffold_177', 'Super_scaffold_226', 'Super_scaffold_251', 'Super_scaffold_252', 'Super_scaffold_337', 'Super_scaffold_343', 'Super_scaffold_344', 'Super_scaffold_347', 'Super_scaffold_349', 'Super_scaffold_350', 'Super_scaffold_351', 'Super_scaffold_352', 'Super_scaffold_354', 'Super_scaffold_355', 'Super_scaffold_356', 'Super_scaffold_357', 'Super_scaffold_358', 'Super_scaffold_361', 'Super_scaffold_364', 'Super_scaffold_367', 'Super_scaffold_369', 'Super_scaffold_371', 'Super_scaffold_372', 'Super_scaffold_375', 'Super_scaffold_379', 'Super_scaffold_380', 'Super_scaffold_385', 'Super_scaffold_386', 'Super_scaffold_388', 'Super_scaffold_391', 'Super_scaffold_392', 'Super_scaffold_398', 'Super_scaffold_4', 'Super_scaffold_400', 'Super_scaffold_401', 'Super_scaffold_403', 'Super_scaffold_412', 'Super_scaffold_414', 'Super_scaffold_416', 'Super_scaffold_419', 'Super_scaffold_424', 'Super_scaffold_425', 'Super_scaffold_428', 'Super_scaffold_429', 'Super_scaffold_436', 'Super_scaffold_438', 'Super_scaffold_69', 'Super_scaffold_91']"
   ]
  },
  {
   "cell_type": "code",
   "execution_count": 144,
   "metadata": {},
   "outputs": [
    {
     "name": "stdout",
     "output_type": "stream",
     "text": [
      "macro micro 141 13 0\n",
      "macro macro 141 55 33\n",
      "micro micro 63 13 12\n",
      "micro macro 63 55 0\n",
      "unk micro 66 13 0\n",
      "unk macro 66 55 5\n"
     ]
    }
   ],
   "source": [
    "agreement = collapse_sp2[collapse_sp2.sp2==2]\n",
    "\n",
    "carla_k = [\"micro\", \"macro\"]\n",
    "\n",
    "for nat,df in agreement.groupby(\"nature\"):\n",
    "    scafs = list(df.scaf.values)\n",
    "    for i,carla_l in enumerate([smallchroms, largechroms]):\n",
    "        isec = list(set(scafs) & set(carla_l))\n",
    "        print(nat, carla_k[i], len(scafs), len(carla_l), len(isec))"
   ]
  },
  {
   "cell_type": "code",
   "execution_count": 146,
   "metadata": {},
   "outputs": [],
   "source": [
    "agreement[[\"scaf\",\"nature\"]].to_csv(\"corn_macro_micro.tab\",sep=\"\\t\", index=False)"
   ]
  }
 ],
 "metadata": {
  "kernelspec": {
   "display_name": "Python 3",
   "language": "python",
   "name": "python3"
  },
  "language_info": {
   "codemirror_mode": {
    "name": "ipython",
    "version": 3
   },
   "file_extension": ".py",
   "mimetype": "text/x-python",
   "name": "python",
   "nbconvert_exporter": "python",
   "pygments_lexer": "ipython3",
   "version": "3.8.5"
  }
 },
 "nbformat": 4,
 "nbformat_minor": 4
}
