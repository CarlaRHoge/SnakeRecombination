{
 "cells": [
  {
   "cell_type": "code",
   "execution_count": 2,
   "metadata": {},
   "outputs": [],
   "source": [
    "from Bio import Phylo\n",
    "from ete3 import Tree"
   ]
  },
  {
   "cell_type": "code",
   "execution_count": 18,
   "metadata": {},
   "outputs": [],
   "source": [
    "def get_rates_per_y(group, species_list, time_file, sub_file):\n",
    "    '''Returns subsitutions rates per year given a group and comma separated species list'''\n",
    "    \n",
    "    # Read newick trees\n",
    "    ##nwk_file = \"../data/TimeTree/{}_TimeTree.nwk\".format(group)\n",
    "    ##sub_file = \"../data/phylofit/{}_phast.nh\".format(group)\n",
    "    \n",
    "    time = Tree(time_file, format=1)    \n",
    "    subr = Tree(sub_file)\n",
    "    \n",
    "    # Only keep species present in both trees\n",
    "    clean_sp_list = list(set(time.get_leaf_names()) & set(subr.get_leaf_names()) & set(species_list))\n",
    "    for sp in species_list:\n",
    "        if sp not in clean_sp_list:\n",
    "            pass\n",
    "    \n",
    "    # Keep only species in list, preserving length\n",
    "    time.prune(clean_sp_list, preserve_branch_length=True)\n",
    "    subr.prune(clean_sp_list, preserve_branch_length=True)\n",
    "    \n",
    "    # Get branch lengths \n",
    "    time_d = {n.name:n.dist for n in time.get_leaves()}\n",
    "    subr_d = {n.name:n.dist for n in subr.get_leaves()}\n",
    "    \n",
    "    # Complete info, including yearly rates\n",
    "    df_l = []\n",
    "    mod = 1e6 if \"Alvarez\" not in time_file else 1e8\n",
    "\n",
    "    for sp in clean_sp_list:\n",
    "        df_l.append([sp, time_d[sp], subr_d[sp], subr_d[sp]/(time_d[sp]*mod)])\n",
    "    df = pd.DataFrame(df_l)\n",
    "    df.columns = [\"Species\", \"Divergence_mya\", \"Substitution_Rate\", \"Rate_y\"]\n",
    "        \n",
    "    return df"
   ]
  },
  {
   "cell_type": "markdown",
   "metadata": {},
   "source": [
    "Get estimate of subsitution rate per year"
   ]
  },
  {
   "cell_type": "code",
   "execution_count": 19,
   "metadata": {},
   "outputs": [],
   "source": [
    "with open(\"9-serpentes.txt\") as fh:\n",
    "    sp_list = [line.strip() for line in fh]"
   ]
  },
  {
   "cell_type": "code",
   "execution_count": 22,
   "metadata": {},
   "outputs": [],
   "source": [
    "results = get_rates_per_y(group = \"snakes\", \n",
    "                          species_list = sp_list, \n",
    "                          time_file = \"9-serpentes.TimeTree.nwk\", \n",
    "                          sub_file  = \"9-serpentes-2021-phyloFit.NC_045541.1.noAnc.nh\")"
   ]
  },
  {
   "cell_type": "markdown",
   "metadata": {},
   "source": [
    "Plot"
   ]
  },
  {
   "cell_type": "code",
   "execution_count": 37,
   "metadata": {},
   "outputs": [
    {
     "data": {
      "image/png": "[encoded data removed]",
      "text/plain": [
       "<Figure size 360x216 with 1 Axes>"
      ]
     },
     "metadata": {
      "needs_background": "light"
     },
     "output_type": "display_data"
    }
   ],
   "source": [
    "f,ax = plt.subplots(figsize=[5,3])\n",
    "sns.scatterplot(data=results, x=\"Rate_y\", y=\"Species\")\n",
    "ax.set_xlabel(\"Substitution rate per year\")\n",
    "ax.set_ylabel(\"Branch\")\n",
    "sns.despine()\n",
    "plt.tight_layout()\n",
    "plt.savefig(\"substitution_rate_y.pdf\")"
   ]
  }
 ],
 "metadata": {
  "kernelspec": {
   "display_name": "Python 3",
   "language": "python",
   "name": "python3"
  },
  "language_info": {
   "codemirror_mode": {
    "name": "ipython",
    "version": 3
   },
   "file_extension": ".py",
   "mimetype": "text/x-python",
   "name": "python",
   "nbconvert_exporter": "python",
   "pygments_lexer": "ipython3",
   "version": "3.8.5"
  }
 },
 "nbformat": 4,
 "nbformat_minor": 4
}
