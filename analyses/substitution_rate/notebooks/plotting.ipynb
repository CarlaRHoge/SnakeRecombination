{
 "cells": [
  {
   "cell_type": "code",
   "execution_count": 8,
   "metadata": {},
   "outputs": [],
   "source": [
    "import os"
   ]
  },
  {
   "cell_type": "markdown",
   "metadata": {},
   "source": [
    "Read data"
   ]
  },
  {
   "cell_type": "code",
   "execution_count": 37,
   "metadata": {},
   "outputs": [],
   "source": [
    "l = []\n",
    "for r in range(100):\n",
    "    div_file = \"../divergence/Pantherophis_guttatus.{}.tab.gz\".format(r)\n",
    "    statinfo = os.stat(div_file)\n",
    "    if statinfo.st_size < 50:\n",
    "        continue\n",
    "    df = pd.read_csv(div_file, sep=\"\\t\", header=None)\n",
    "    df.columns = [\"ref\", \"sp\", \"diffs\", \"substrate\", \"div\", \"scaf\", \"start\", \"ref2\", \"rep\"]\n",
    "    l.append(df)\n",
    "\n",
    "div = pd.concat(l)\n",
    "div = div[~div.sp.str.contains(\"Anc\")].reset_index(drop=True)"
   ]
  },
  {
   "cell_type": "code",
   "execution_count": 38,
   "metadata": {},
   "outputs": [],
   "source": [
    "sex_scafs = ['Super_scaffold_14','Super_scaffold_15','Super_scaffold_205','Super_scaffold_235','Super_scaffold_286','Super_scaffold_312','Super_scaffold_343','Super_scaffold_361','Super_scaffold_367','Super_scaffold_375','Super_scaffold_410','Super_scaffold_414','Super_scaffold_430','Super_scaffold_437','Super_scaffold_466','Super_scaffold_54','Super_scaffold_8']\n",
    "div[\"ctype\"] = [\"Z\" if scaf in sex_scafs else \"A\" for scaf in div.scaf]"
   ]
  },
  {
   "cell_type": "markdown",
   "metadata": {},
   "source": [
    "Plot divergence"
   ]
  },
  {
   "cell_type": "code",
   "execution_count": 61,
   "metadata": {},
   "outputs": [
    {
     "data": {
      "image/png": "[encoded data removed]",
      "text/plain": [
       "<Figure size 432x288 with 1 Axes>"
      ]
     },
     "metadata": {
      "needs_background": "light"
     },
     "output_type": "display_data"
    }
   ],
   "source": [
    "f,ax = plt.subplots(figsize=[6,4])\n",
    "\n",
    "subd = div[(div[\"substrate\"]>2e6) \n",
    "           & (div.ctype!=\"Z\") \n",
    "           & (div.sp!=\"Pantherophis_guttatus\")]\n",
    "\n",
    "means = subd.groupby(\"sp\")[\"div\"].mean().to_dict()\n",
    "\n",
    "sns.stripplot(data=subd, \n",
    "              x=\"div\", \n",
    "              y=\"sp\", \n",
    "              alpha = 0.3, \n",
    "              color=\"gray\")\n",
    "\n",
    "ax.set_xlabel(\"Sequence divergence to corn snake\")\n",
    "ax.set_ylabel(\"\")\n",
    "sns.despine()\n",
    "plt.tight_layout()\n",
    "plt.savefig(\"corn_snake_divergence_10Mb.pdf\")"
   ]
  },
  {
   "cell_type": "code",
   "execution_count": 62,
   "metadata": {},
   "outputs": [
    {
     "data": {
      "text/html": [
       "<div>\n",
       "<style scoped>\n",
       "    .dataframe tbody tr th:only-of-type {\n",
       "        vertical-align: middle;\n",
       "    }\n",
       "\n",
       "    .dataframe tbody tr th {\n",
       "        vertical-align: top;\n",
       "    }\n",
       "\n",
       "    .dataframe thead th {\n",
       "        text-align: right;\n",
       "    }\n",
       "</style>\n",
       "<table border=\"1\" class=\"dataframe\">\n",
       "  <thead>\n",
       "    <tr style=\"text-align: right;\">\n",
       "      <th></th>\n",
       "      <th>sp</th>\n",
       "      <th>div</th>\n",
       "    </tr>\n",
       "  </thead>\n",
       "  <tbody>\n",
       "    <tr>\n",
       "      <th>0</th>\n",
       "      <td>Crotalus_viridis</td>\n",
       "      <td>0.124534</td>\n",
       "    </tr>\n",
       "    <tr>\n",
       "      <th>1</th>\n",
       "      <td>Laticauda_laticaudata</td>\n",
       "      <td>0.113348</td>\n",
       "    </tr>\n",
       "    <tr>\n",
       "      <th>2</th>\n",
       "      <td>Naja_naja</td>\n",
       "      <td>0.099085</td>\n",
       "    </tr>\n",
       "    <tr>\n",
       "      <th>3</th>\n",
       "      <td>Notechis_scutatus</td>\n",
       "      <td>0.103399</td>\n",
       "    </tr>\n",
       "    <tr>\n",
       "      <th>4</th>\n",
       "      <td>Pantherophis_obsoletus</td>\n",
       "      <td>0.014970</td>\n",
       "    </tr>\n",
       "    <tr>\n",
       "      <th>5</th>\n",
       "      <td>Pseudonaja_textilis</td>\n",
       "      <td>0.107366</td>\n",
       "    </tr>\n",
       "    <tr>\n",
       "      <th>6</th>\n",
       "      <td>Thamnophis_elegans</td>\n",
       "      <td>0.094488</td>\n",
       "    </tr>\n",
       "    <tr>\n",
       "      <th>7</th>\n",
       "      <td>Vipera_berus</td>\n",
       "      <td>0.130154</td>\n",
       "    </tr>\n",
       "  </tbody>\n",
       "</table>\n",
       "</div>"
      ],
      "text/plain": [
       "                       sp       div\n",
       "0        Crotalus_viridis  0.124534\n",
       "1   Laticauda_laticaudata  0.113348\n",
       "2               Naja_naja  0.099085\n",
       "3       Notechis_scutatus  0.103399\n",
       "4  Pantherophis_obsoletus  0.014970\n",
       "5     Pseudonaja_textilis  0.107366\n",
       "6      Thamnophis_elegans  0.094488\n",
       "7            Vipera_berus  0.130154"
      ]
     },
     "execution_count": 62,
     "metadata": {},
     "output_type": "execute_result"
    }
   ],
   "source": [
    "subd.groupby(\"sp\")[\"div\"].median().reset_index()"
   ]
  }
 ],
 "metadata": {
  "kernelspec": {
   "display_name": "Python 3",
   "language": "python",
   "name": "python3"
  },
  "language_info": {
   "codemirror_mode": {
    "name": "ipython",
    "version": 3
   },
   "file_extension": ".py",
   "mimetype": "text/x-python",
   "name": "python",
   "nbconvert_exporter": "python",
   "pygments_lexer": "ipython3",
   "version": "3.8.5"
  }
 },
 "nbformat": 4,
 "nbformat_minor": 4
}
